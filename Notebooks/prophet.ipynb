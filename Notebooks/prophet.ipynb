{
 "cells": [
  {
   "cell_type": "code",
   "execution_count": 1,
   "id": "b2cd3a29-fd5f-49f4-ac9a-a4cc125c9ad9",
   "metadata": {
    "execution": {
     "iopub.execute_input": "2022-01-03T09:19:59.882284Z",
     "iopub.status.busy": "2022-01-03T09:19:59.879287Z",
     "iopub.status.idle": "2022-01-03T09:20:00.124843Z",
     "shell.execute_reply": "2022-01-03T09:20:00.124843Z",
     "shell.execute_reply.started": "2022-01-03T09:19:59.881286Z"
    },
    "tags": []
   },
   "outputs": [],
   "source": [
    "import os\n",
    "os.chdir(os.environ['PROJECT_ROOT'])\n",
    "\n",
    "%load_ext autoreload\n",
    "%autoreload 2"
   ]
  },
  {
   "cell_type": "code",
   "execution_count": 9,
   "id": "ac271530-d266-404a-ba80-467bc794ce7f",
   "metadata": {
    "execution": {
     "iopub.execute_input": "2022-01-03T09:20:29.837480Z",
     "iopub.status.busy": "2022-01-03T09:20:29.836485Z",
     "iopub.status.idle": "2022-01-03T09:20:30.102469Z",
     "shell.execute_reply": "2022-01-03T09:20:30.102469Z",
     "shell.execute_reply.started": "2022-01-03T09:20:29.837480Z"
    },
    "tags": []
   },
   "outputs": [],
   "source": [
    "from datetime import datetime, timedelta\n",
    "import numpy as np\n",
    "import pandas as pd\n",
    "from prophet import Prophet\n",
    "import time"
   ]
  },
  {
   "cell_type": "code",
   "execution_count": 3,
   "id": "648f5ca9-340a-4f57-b65e-0d91a20fcb3d",
   "metadata": {
    "execution": {
     "iopub.execute_input": "2022-01-03T09:20:03.580378Z",
     "iopub.status.busy": "2022-01-03T09:20:03.578386Z",
     "iopub.status.idle": "2022-01-03T09:20:09.653741Z",
     "shell.execute_reply": "2022-01-03T09:20:09.653741Z",
     "shell.execute_reply.started": "2022-01-03T09:20:03.580378Z"
    },
    "tags": []
   },
   "outputs": [],
   "source": [
    "X = pd.read_csv('data/X_train.csv')\n",
    "y = pd.read_csv('data/y_train.csv').target\n",
    "X_1 = X[X.Store == 1]\n",
    "y_1 = y[X.Store == 1]"
   ]
  },
  {
   "cell_type": "code",
   "execution_count": null,
   "id": "440eb77c-0448-4d6d-a81e-30b9971286eb",
   "metadata": {},
   "outputs": [],
   "source": []
  },
  {
   "cell_type": "code",
   "execution_count": 5,
   "id": "8d3596b9-60dd-42af-b701-4ff37a4f2937",
   "metadata": {
    "execution": {
     "iopub.execute_input": "2022-01-03T09:20:11.523205Z",
     "iopub.status.busy": "2022-01-03T09:20:11.522207Z",
     "iopub.status.idle": "2022-01-03T09:20:11.736583Z",
     "shell.execute_reply": "2022-01-03T09:20:11.736583Z",
     "shell.execute_reply.started": "2022-01-03T09:20:11.523205Z"
    },
    "tags": []
   },
   "outputs": [],
   "source": [
    "start_date = datetime(2013, 1, 1)"
   ]
  },
  {
   "cell_type": "markdown",
   "id": "a091fb19-a025-4f0b-a674-d2480b85bcc3",
   "metadata": {},
   "source": [
    "Custom data"
   ]
  },
  {
   "cell_type": "code",
   "execution_count": 6,
   "id": "99753dfd-b9d1-4db1-95c6-1e5ee2d034ce",
   "metadata": {
    "execution": {
     "iopub.execute_input": "2022-01-03T09:20:12.098896Z",
     "iopub.status.busy": "2022-01-03T09:20:12.097902Z",
     "iopub.status.idle": "2022-01-03T09:20:12.319304Z",
     "shell.execute_reply": "2022-01-03T09:20:12.319304Z",
     "shell.execute_reply.started": "2022-01-03T09:20:12.098896Z"
    },
    "tags": []
   },
   "outputs": [],
   "source": [
    "df = pd.DataFrame({\n",
    "    'ds': [start_date + timedelta(days=i) for i in range(894)],\n",
    "    'y': np.arange(894)**2\n",
    "})"
   ]
  },
  {
   "cell_type": "code",
   "execution_count": 11,
   "id": "d7fd8081-07c7-4d51-bd63-6f6b28c38657",
   "metadata": {
    "execution": {
     "iopub.execute_input": "2022-01-03T09:25:46.691501Z",
     "iopub.status.busy": "2022-01-03T09:25:46.691501Z",
     "iopub.status.idle": "2022-01-03T09:25:46.947574Z",
     "shell.execute_reply": "2022-01-03T09:25:46.947574Z",
     "shell.execute_reply.started": "2022-01-03T09:25:46.691501Z"
    }
   },
   "outputs": [],
   "source": [
    "df_test = pd.DataFrame({\n",
    "    'ds': [start_date + timedelta(days=i) for i in range(894, 942)],\n",
    "})"
   ]
  },
  {
   "cell_type": "code",
   "execution_count": 7,
   "id": "353e6b1e-d78f-4e7f-8817-e3ed8e147cb2",
   "metadata": {
    "execution": {
     "iopub.execute_input": "2022-01-03T09:20:12.958412Z",
     "iopub.status.busy": "2022-01-03T09:20:12.957414Z",
     "iopub.status.idle": "2022-01-03T09:20:16.344246Z",
     "shell.execute_reply": "2022-01-03T09:20:16.344246Z",
     "shell.execute_reply.started": "2022-01-03T09:20:12.957414Z"
    },
    "tags": []
   },
   "outputs": [],
   "source": [
    "m = Prophet()"
   ]
  },
  {
   "cell_type": "code",
   "execution_count": 10,
   "id": "1b94b6df-8e94-483a-baf1-b8216f60fbc9",
   "metadata": {
    "execution": {
     "iopub.execute_input": "2022-01-03T09:20:32.102604Z",
     "iopub.status.busy": "2022-01-03T09:20:32.101608Z",
     "iopub.status.idle": "2022-01-03T09:21:25.202290Z",
     "shell.execute_reply": "2022-01-03T09:21:25.200293Z",
     "shell.execute_reply.started": "2022-01-03T09:20:32.101608Z"
    },
    "tags": []
   },
   "outputs": [
    {
     "name": "stderr",
     "output_type": "stream",
     "text": [
      "INFO:prophet:Disabling daily seasonality. Run prophet with daily_seasonality=True to override this.\n"
     ]
    },
    {
     "data": {
      "text/plain": [
       "52.81695008277893"
      ]
     },
     "execution_count": 10,
     "metadata": {},
     "output_type": "execute_result"
    }
   ],
   "source": [
    "start = time.time()\n",
    "m.fit(df)\n",
    "time.time() - start"
   ]
  },
  {
   "cell_type": "code",
   "execution_count": 12,
   "id": "bd94e50c-2576-4772-aca9-5104e2f68fe0",
   "metadata": {
    "execution": {
     "iopub.execute_input": "2022-01-03T09:26:08.206397Z",
     "iopub.status.busy": "2022-01-03T09:26:08.205402Z",
     "iopub.status.idle": "2022-01-03T09:26:16.079464Z",
     "shell.execute_reply": "2022-01-03T09:26:16.076466Z",
     "shell.execute_reply.started": "2022-01-03T09:26:08.206397Z"
    }
   },
   "outputs": [
    {
     "data": {
      "text/plain": [
       "7.591438293457031"
      ]
     },
     "execution_count": 12,
     "metadata": {},
     "output_type": "execute_result"
    }
   ],
   "source": [
    "start = time.time()\n",
    "m.predict(df_test)\n",
    "time.time() - start"
   ]
  },
  {
   "cell_type": "markdown",
   "id": "8dd112c2-beaa-4a8c-8bb2-531b862bd7e8",
   "metadata": {},
   "source": [
    "Data from train dataset"
   ]
  },
  {
   "cell_type": "code",
   "execution_count": 15,
   "id": "dcef6682-7741-47cb-8298-3727fd4660cd",
   "metadata": {
    "execution": {
     "iopub.execute_input": "2022-01-03T09:28:20.558744Z",
     "iopub.status.busy": "2022-01-03T09:28:20.557745Z",
     "iopub.status.idle": "2022-01-03T09:28:20.861888Z",
     "shell.execute_reply": "2022-01-03T09:28:20.861888Z",
     "shell.execute_reply.started": "2022-01-03T09:28:20.558744Z"
    }
   },
   "outputs": [],
   "source": [
    "all_days = pd.DataFrame({\n",
    "    'ds': np.arange(894)\n",
    "})"
   ]
  },
  {
   "cell_type": "code",
   "execution_count": 18,
   "id": "3479d23a-a974-49b8-ad36-7270137bb8fc",
   "metadata": {
    "execution": {
     "iopub.execute_input": "2022-01-03T09:29:36.468458Z",
     "iopub.status.busy": "2022-01-03T09:29:36.467461Z",
     "iopub.status.idle": "2022-01-03T09:29:36.775245Z",
     "shell.execute_reply": "2022-01-03T09:29:36.774243Z",
     "shell.execute_reply.started": "2022-01-03T09:29:36.467461Z"
    },
    "tags": []
   },
   "outputs": [
    {
     "data": {
      "text/html": [
       "<div>\n",
       "<style scoped>\n",
       "    .dataframe tbody tr th:only-of-type {\n",
       "        vertical-align: middle;\n",
       "    }\n",
       "\n",
       "    .dataframe tbody tr th {\n",
       "        vertical-align: top;\n",
       "    }\n",
       "\n",
       "    .dataframe thead th {\n",
       "        text-align: right;\n",
       "    }\n",
       "</style>\n",
       "<table border=\"1\" class=\"dataframe\">\n",
       "  <thead>\n",
       "    <tr style=\"text-align: right;\">\n",
       "      <th></th>\n",
       "      <th>ds</th>\n",
       "      <th>y</th>\n",
       "    </tr>\n",
       "  </thead>\n",
       "  <tbody>\n",
       "    <tr>\n",
       "      <th>0</th>\n",
       "      <td>2013-01-01</td>\n",
       "      <td>0.0</td>\n",
       "    </tr>\n",
       "    <tr>\n",
       "      <th>1</th>\n",
       "      <td>2013-01-02</td>\n",
       "      <td>5530.0</td>\n",
       "    </tr>\n",
       "    <tr>\n",
       "      <th>2</th>\n",
       "      <td>2013-01-03</td>\n",
       "      <td>4327.0</td>\n",
       "    </tr>\n",
       "    <tr>\n",
       "      <th>3</th>\n",
       "      <td>2013-01-04</td>\n",
       "      <td>4486.0</td>\n",
       "    </tr>\n",
       "    <tr>\n",
       "      <th>4</th>\n",
       "      <td>2013-01-05</td>\n",
       "      <td>4997.0</td>\n",
       "    </tr>\n",
       "    <tr>\n",
       "      <th>...</th>\n",
       "      <td>...</td>\n",
       "      <td>...</td>\n",
       "    </tr>\n",
       "    <tr>\n",
       "      <th>889</th>\n",
       "      <td>2015-06-09</td>\n",
       "      <td>4102.0</td>\n",
       "    </tr>\n",
       "    <tr>\n",
       "      <th>890</th>\n",
       "      <td>2015-06-10</td>\n",
       "      <td>3591.0</td>\n",
       "    </tr>\n",
       "    <tr>\n",
       "      <th>891</th>\n",
       "      <td>2015-06-11</td>\n",
       "      <td>3627.0</td>\n",
       "    </tr>\n",
       "    <tr>\n",
       "      <th>892</th>\n",
       "      <td>2015-06-12</td>\n",
       "      <td>3695.0</td>\n",
       "    </tr>\n",
       "    <tr>\n",
       "      <th>893</th>\n",
       "      <td>2015-06-13</td>\n",
       "      <td>4256.0</td>\n",
       "    </tr>\n",
       "  </tbody>\n",
       "</table>\n",
       "<p>894 rows × 2 columns</p>\n",
       "</div>"
      ],
      "text/plain": [
       "            ds       y\n",
       "0   2013-01-01     0.0\n",
       "1   2013-01-02  5530.0\n",
       "2   2013-01-03  4327.0\n",
       "3   2013-01-04  4486.0\n",
       "4   2013-01-05  4997.0\n",
       "..         ...     ...\n",
       "889 2015-06-09  4102.0\n",
       "890 2015-06-10  3591.0\n",
       "891 2015-06-11  3627.0\n",
       "892 2015-06-12  3695.0\n",
       "893 2015-06-13  4256.0\n",
       "\n",
       "[894 rows x 2 columns]"
      ]
     },
     "execution_count": 18,
     "metadata": {},
     "output_type": "execute_result"
    }
   ],
   "source": [
    "df = all_days.merge(pd.DataFrame({\n",
    "                    'ds': X_1['ordered_day'],\n",
    "                    'y': y_1\n",
    "                }),\n",
    "               how='left'\n",
    "              ).fillna(0)\n",
    "df['ds'] = df['ds'].apply(lambda day: start_date + timedelta(days=day))\n",
    "df"
   ]
  },
  {
   "cell_type": "code",
   "execution_count": 19,
   "id": "77a55cf3-c76a-4dc3-abb1-ce213c031f80",
   "metadata": {
    "execution": {
     "iopub.execute_input": "2022-01-03T09:29:50.976433Z",
     "iopub.status.busy": "2022-01-03T09:29:50.975438Z",
     "iopub.status.idle": "2022-01-03T09:29:51.323043Z",
     "shell.execute_reply": "2022-01-03T09:29:51.321045Z",
     "shell.execute_reply.started": "2022-01-03T09:29:50.976433Z"
    }
   },
   "outputs": [],
   "source": [
    "m = Prophet()"
   ]
  },
  {
   "cell_type": "code",
   "execution_count": 20,
   "id": "13e9e246-0e26-447b-8719-a4290846b8b7",
   "metadata": {
    "execution": {
     "iopub.execute_input": "2022-01-03T09:30:04.192709Z",
     "iopub.status.busy": "2022-01-03T09:30:04.191711Z",
     "iopub.status.idle": "2022-01-03T09:30:05.822788Z",
     "shell.execute_reply": "2022-01-03T09:30:05.820791Z",
     "shell.execute_reply.started": "2022-01-03T09:30:04.192709Z"
    }
   },
   "outputs": [
    {
     "name": "stderr",
     "output_type": "stream",
     "text": [
      "INFO:prophet:Disabling daily seasonality. Run prophet with daily_seasonality=True to override this.\n"
     ]
    },
    {
     "data": {
      "text/plain": [
       "1.3232626914978027"
      ]
     },
     "execution_count": 20,
     "metadata": {},
     "output_type": "execute_result"
    }
   ],
   "source": [
    "start = time.time()\n",
    "m.fit(df)\n",
    "time.time() - start"
   ]
  },
  {
   "cell_type": "code",
   "execution_count": 21,
   "id": "4d890e31-d5d0-4349-8133-13a3b5663be2",
   "metadata": {
    "execution": {
     "iopub.execute_input": "2022-01-03T09:30:12.983525Z",
     "iopub.status.busy": "2022-01-03T09:30:12.981525Z",
     "iopub.status.idle": "2022-01-03T09:30:20.016627Z",
     "shell.execute_reply": "2022-01-03T09:30:20.013632Z",
     "shell.execute_reply.started": "2022-01-03T09:30:12.982529Z"
    }
   },
   "outputs": [
    {
     "data": {
      "text/plain": [
       "6.696783065795898"
      ]
     },
     "execution_count": 21,
     "metadata": {},
     "output_type": "execute_result"
    }
   ],
   "source": [
    "start = time.time()\n",
    "m.predict(df_test)\n",
    "time.time() - start"
   ]
  },
  {
   "cell_type": "code",
   "execution_count": null,
   "id": "058a1279-928e-4cad-b267-6ad81bac054f",
   "metadata": {},
   "outputs": [],
   "source": []
  }
 ],
 "metadata": {
  "kernelspec": {
   "display_name": "Python 3 (ipykernel)",
   "language": "python",
   "name": "python3"
  },
  "language_info": {
   "codemirror_mode": {
    "name": "ipython",
    "version": 3
   },
   "file_extension": ".py",
   "mimetype": "text/x-python",
   "name": "python",
   "nbconvert_exporter": "python",
   "pygments_lexer": "ipython3",
   "version": "3.7.10"
  }
 },
 "nbformat": 4,
 "nbformat_minor": 5
}
